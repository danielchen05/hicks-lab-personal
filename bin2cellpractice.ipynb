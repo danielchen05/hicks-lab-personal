{
 "cells": [
  {
   "cell_type": "markdown",
   "metadata": {},
   "source": [
    "This notebook provides an example workflow of bin2cell, with corresponding results presented."
   ]
  },
  {
   "cell_type": "code",
   "execution_count": 1,
   "metadata": {},
   "outputs": [],
   "source": [
    "import matplotlib.pyplot as plt\n",
    "import scanpy as sc\n",
    "import numpy as np\n",
    "import os\n",
    "\n",
    "import bin2cell as b2c"
   ]
  },
  {
   "cell_type": "code",
   "execution_count": null,
   "metadata": {},
   "outputs": [
    {
     "name": "stderr",
     "output_type": "stream",
     "text": [
      "anndata.py (1756): Variable names are not unique. To make them unique, call `.var_names_make_unique`.\n",
      "anndata.py (1756): Variable names are not unique. To make them unique, call `.var_names_make_unique`.\n"
     ]
    },
    {
     "data": {
      "text/plain": [
       "AnnData object with n_obs × n_vars = 6296688 × 19059\n",
       "    obs: 'in_tissue', 'array_row', 'array_col'\n",
       "    var: 'gene_ids', 'feature_types', 'genome'\n",
       "    uns: 'spatial'\n",
       "    obsm: 'spatial'"
      ]
     },
     "execution_count": 2,
     "metadata": {},
     "output_type": "execute_result"
    },
    {
     "ename": "",
     "evalue": "",
     "output_type": "error",
     "traceback": [
      "\u001b[1;31mThe Kernel crashed while executing code in the current cell or a previous cell. \n",
      "\u001b[1;31mPlease review the code in the cell(s) to identify a possible cause of the failure. \n",
      "\u001b[1;31mClick <a href='https://aka.ms/vscodeJupyterKernelCrash'>here</a> for more info. \n",
      "\u001b[1;31mView Jupyter <a href='command:jupyter.viewOutput'>log</a> for further details."
     ]
    }
   ],
   "source": [
    "## READ-IN DATA, LOAD COUNT MATRIX\n",
    "#create directory for stardist input/output files\n",
    "os.makedirs(\"stardist\", exist_ok=True)\n",
    "\n",
    "path = \"../Visium/binned_outputs/square_002um\"\n",
    "source_image_path = \"../Visium/Visium_HD_Mouse_Brain_tissue_image.tif\"\n",
    "spaceranger_image_path = \"../Visium/spatial\"\n",
    "\n",
    "adata = b2c.read_visium(path, \n",
    "                        source_image_path = source_image_path, \n",
    "                        spaceranger_image_path = spaceranger_image_path\n",
    "                       )\n",
    "adata.var_names_make_unique()\n",
    "adata"
   ]
  },
  {
   "cell_type": "code",
   "execution_count": null,
   "metadata": {},
   "outputs": [],
   "source": [
    "## FILTER DATA\n",
    "sc.pp.filter_genes(adata, min_cells=3)\n",
    "sc.pp.filter_cells(adata, min_counts=1)\n",
    "## CONTROL RESOLUTION OF INPUT IMAGE\n",
    "mpp = 0.3\n",
    "b2c.scaled_he_image(adata, mpp=mpp, save_path=\"stardist/he.tiff\") # image needs to be saved to the drive"
   ]
  },
  {
   "cell_type": "code",
   "execution_count": null,
   "metadata": {},
   "outputs": [
    {
     "name": "stderr",
     "output_type": "stream",
     "text": [
      "_construct.py (149): Series.__getitem__ treating keys as positions is deprecated. In a future version, integer keys will always be treated as labels (consistent with DataFrame behavior). To access a value by position, use `ser.iloc[pos]`\n"
     ]
    }
   ],
   "source": [
    "## DESTRIPE DATA, CROP, and PLOT\n",
    "b2c.destripe(adata)\n",
    "mask = ((adata.obs['array_row'] >= 1450) & \n",
    "        (adata.obs['array_row'] <= 1550) & \n",
    "        (adata.obs['array_col'] >= 250) & \n",
    "        (adata.obs['array_col'] <= 450)\n",
    "       )\n",
    "bdata = adata[mask]\n",
    "\n",
    "# Jupyter issue when plotting\n",
    "#sc.pl.spatial(bdata, color=[None, \"n_counts\", \"n_counts_adjusted\"], color_map=\"OrRd\",\n",
    "              #img_key=\"0.3_mpp_150_buffer\", basis=\"spatial_cropped_150_buffer\")"
   ]
  },
  {
   "cell_type": "code",
   "execution_count": null,
   "metadata": {},
   "outputs": [
    {
     "name": "stderr",
     "output_type": "stream",
     "text": [
      "2025-02-13 16:39:35.170700: I tensorflow/core/util/port.cc:153] oneDNN custom operations are on. You may see slightly different numerical results due to floating-point round-off errors from different computation orders. To turn them off, set the environment variable `TF_ENABLE_ONEDNN_OPTS=0`.\n",
      "2025-02-13 16:39:35.187707: I external/local_xla/xla/tsl/cuda/cudart_stub.cc:32] Could not find cuda drivers on your machine, GPU will not be used.\n",
      "2025-02-13 16:39:35.286797: I external/local_xla/xla/tsl/cuda/cudart_stub.cc:32] Could not find cuda drivers on your machine, GPU will not be used.\n",
      "2025-02-13 16:39:35.420589: E external/local_xla/xla/stream_executor/cuda/cuda_fft.cc:477] Unable to register cuFFT factory: Attempting to register factory for plugin cuFFT when one has already been registered\n",
      "WARNING: All log messages before absl::InitializeLog() is called are written to STDERR\n",
      "E0000 00:00:1739482775.510383 1201886 cuda_dnn.cc:8310] Unable to register cuDNN factory: Attempting to register factory for plugin cuDNN when one has already been registered\n",
      "E0000 00:00:1739482775.518556 1201886 cuda_blas.cc:1418] Unable to register cuBLAS factory: Attempting to register factory for plugin cuBLAS when one has already been registered\n",
      "2025-02-13 16:39:35.599760: I tensorflow/core/platform/cpu_feature_guard.cc:210] This TensorFlow binary is optimized to use available CPU instructions in performance-critical operations.\n",
      "To enable the following instructions: AVX2 AVX512F AVX512_VNNI FMA, in other operations, rebuild TensorFlow with the appropriate compiler flags.\n"
     ]
    },
    {
     "ename": "",
     "evalue": "",
     "output_type": "error",
     "traceback": [
      "\u001b[1;31mThe Kernel crashed while executing code in the current cell or a previous cell. \n",
      "\u001b[1;31mPlease review the code in the cell(s) to identify a possible cause of the failure. \n",
      "\u001b[1;31mClick <a href='https://aka.ms/vscodeJupyterKernelCrash'>here</a> for more info. \n",
      "\u001b[1;31mView Jupyter <a href='command:jupyter.viewOutput'>log</a> for further details."
     ]
    }
   ],
   "source": [
    "## SEGMENTATION\n",
    "b2c.stardist(image_path=\"stardist/he.tiff\", \n",
    "             labels_npz_path=\"stardist/he.npz\", # define the path where segmentation label is saved\n",
    "             stardist_model=\"2D_versatile_he\", \n",
    "             prob_thresh=0.01 # probability threshold: A lower threshold (0.01) means StarDist will detect more nuclei, including lower-confidence ones.\n",
    "            )\n",
    "\n",
    "b2c.insert_labels(adata, \n",
    "                  labels_npz_path=\"stardist/he.npz\", # path to the labels generated by stardist\n",
    "                  basis=\"spatial\", \n",
    "                  spatial_key=\"spatial_cropped_150_buffer\", # the key where the cropped image is stored\n",
    "                  mpp=mpp, \n",
    "                  labels_key=\"labels_he\" # where segmentation labels will be stored\n",
    "                 )\n",
    "\n",
    "# visualize\n",
    "bdata = adata[mask]\n",
    "\n",
    "#the labels obs are integers, 0 means unassigned\n",
    "bdata = bdata[bdata.obs['labels_he']>0] # assigned labels\n",
    "bdata.obs['labels_he'] = bdata.obs['labels_he'].astype(str)\n",
    "\n",
    "# plot, see on website\n",
    "# sc.pl.spatial(bdata, color=[None, \"labels_he\"], img_key=\"0.5_mpp_150_buffer\", basis=\"spatial_cropped_150_buffer\") # basis = spatial coordinate basis"
   ]
  }
 ],
 "metadata": {
  "kernelspec": {
   "display_name": "usr",
   "language": "python",
   "name": "python3"
  },
  "language_info": {
   "codemirror_mode": {
    "name": "ipython",
    "version": 3
   },
   "file_extension": ".py",
   "mimetype": "text/x-python",
   "name": "python",
   "nbconvert_exporter": "python",
   "pygments_lexer": "ipython3",
   "version": "3.9.18"
  }
 },
 "nbformat": 4,
 "nbformat_minor": 2
}
