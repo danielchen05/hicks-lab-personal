{
 "cells": [
  {
   "cell_type": "markdown",
   "metadata": {},
   "source": [
    "This notebook lists out some extra packages that could be used in Visium HD data analysis."
   ]
  },
  {
   "cell_type": "markdown",
   "metadata": {},
   "source": [
    "**bin2cell**: aggregate 2um bins into single cells using DAPI/mCherry/GFP cell segmentation"
   ]
  },
  {
   "cell_type": "markdown",
   "metadata": {},
   "source": [
    "**BANKSY** : identify spatial domains using aggregated bins using unsupervised clustering algorithms"
   ]
  },
  {
   "cell_type": "markdown",
   "metadata": {},
   "source": [
    "create a counts matrix with co-labeled mCherry/GFP tags to denote which regions the neurons projected from."
   ]
  },
  {
   "cell_type": "markdown",
   "metadata": {},
   "source": []
  }
 ],
 "metadata": {
  "language_info": {
   "name": "python"
  }
 },
 "nbformat": 4,
 "nbformat_minor": 2
}
