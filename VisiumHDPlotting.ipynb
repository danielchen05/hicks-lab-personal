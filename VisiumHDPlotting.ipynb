{
 "cells": [
  {
   "cell_type": "markdown",
   "metadata": {},
   "source": [
    "This Jupyter notebook follows the instruction given on https://spatialdata.scverse.org/en/stable/tutorials/notebooks/notebooks/examples/technology_visium_hd.html, which gives out instructions on how to plot Visium HD datasets using python."
   ]
  },
  {
   "cell_type": "markdown",
   "metadata": {},
   "source": [
    "Challenges on handling and plotting Visium HD data: \\\n",
    "The data is very sparse. In the dataset used in this notebook, only around 5.5 million of the bins are actually covering parts of the tissue where gene expression is detected. Even within these bins, most of the genes are not expressed. \\\n",
    "\\\n",
    "Raster data: not memory efficient. Fix: decouple spatial locations and gene expression.   \n",
    "Spatial location: vector geometries. Gene expression info: AnnData table\n",
    "\n"
   ]
  },
  {
   "cell_type": "code",
   "execution_count": 1,
   "metadata": {},
   "outputs": [],
   "source": [
    "# reload setup\n",
    "%load_ext autoreload\n",
    "%autoreload 2"
   ]
  },
  {
   "cell_type": "markdown",
   "metadata": {},
   "source": [
    "Typically, we use spatialdata-io to read Visium HD data. Use spatialdata-io to convert to Zarr data. Downloaded (need work on understanding spatialdata-io and conversion to Zarr data)"
   ]
  },
  {
   "cell_type": "code",
   "execution_count": 7,
   "metadata": {},
   "outputs": [
    {
     "name": "stderr",
     "output_type": "stream",
     "text": [
      "c:\\Users\\danie\\anaconda3\\Lib\\site-packages\\anndata\\_core\\anndata.py:1758: UserWarning: Variable names are not unique. To make them unique, call `.var_names_make_unique`.\n",
      "  utils.warn_names_duplicates(\"var\")\n",
      "c:\\Users\\danie\\anaconda3\\Lib\\site-packages\\anndata\\_core\\anndata.py:1758: UserWarning: Variable names are not unique. To make them unique, call `.var_names_make_unique`.\n",
      "  utils.warn_names_duplicates(\"var\")\n",
      "c:\\Users\\danie\\anaconda3\\Lib\\site-packages\\anndata\\_core\\anndata.py:1758: UserWarning: Variable names are not unique. To make them unique, call `.var_names_make_unique`.\n",
      "  utils.warn_names_duplicates(\"var\")\n"
     ]
    },
    {
     "data": {
      "text/plain": [
       "SpatialData object, with associated Zarr store: D:\\Hicks Lab\\visium_hd.zarr\n",
       "├── Images\n",
       "│     ├── 'Visium_HD_Mouse_Small_Intestine_cytassist_image': DataArray[cyx] (3, 3000, 3200)\n",
       "│     ├── 'Visium_HD_Mouse_Small_Intestine_full_image': DataTree[cyx] (3, 21943, 23618), (3, 10971, 11809), (3, 5485, 5904), (3, 2742, 2952), (3, 1371, 1476)\n",
       "│     ├── 'Visium_HD_Mouse_Small_Intestine_hires_image': DataArray[cyx] (3, 5575, 6000)\n",
       "│     └── 'Visium_HD_Mouse_Small_Intestine_lowres_image': DataArray[cyx] (3, 558, 600)\n",
       "├── Shapes\n",
       "│     ├── 'Visium_HD_Mouse_Small_Intestine_square_002um': GeoDataFrame shape: (5479660, 1) (2D shapes)\n",
       "│     ├── 'Visium_HD_Mouse_Small_Intestine_square_008um': GeoDataFrame shape: (351817, 1) (2D shapes)\n",
       "│     └── 'Visium_HD_Mouse_Small_Intestine_square_016um': GeoDataFrame shape: (91033, 1) (2D shapes)\n",
       "└── Tables\n",
       "      ├── 'square_002um': AnnData (5479660, 19059)\n",
       "      ├── 'square_008um': AnnData (351817, 19059)\n",
       "      └── 'square_016um': AnnData (91033, 19059)\n",
       "with coordinate systems:\n",
       "    ▸ 'downscaled_hires', with elements:\n",
       "        Visium_HD_Mouse_Small_Intestine_hires_image (Images), Visium_HD_Mouse_Small_Intestine_square_002um (Shapes), Visium_HD_Mouse_Small_Intestine_square_008um (Shapes), Visium_HD_Mouse_Small_Intestine_square_016um (Shapes)\n",
       "    ▸ 'downscaled_lowres', with elements:\n",
       "        Visium_HD_Mouse_Small_Intestine_lowres_image (Images), Visium_HD_Mouse_Small_Intestine_square_002um (Shapes), Visium_HD_Mouse_Small_Intestine_square_008um (Shapes), Visium_HD_Mouse_Small_Intestine_square_016um (Shapes)\n",
       "    ▸ 'global', with elements:\n",
       "        Visium_HD_Mouse_Small_Intestine_cytassist_image (Images), Visium_HD_Mouse_Small_Intestine_full_image (Images), Visium_HD_Mouse_Small_Intestine_hires_image (Images), Visium_HD_Mouse_Small_Intestine_lowres_image (Images), Visium_HD_Mouse_Small_Intestine_square_002um (Shapes), Visium_HD_Mouse_Small_Intestine_square_008um (Shapes), Visium_HD_Mouse_Small_Intestine_square_016um (Shapes)"
      ]
     },
     "execution_count": 7,
     "metadata": {},
     "output_type": "execute_result"
    }
   ],
   "source": [
    "# data preparatory work\n",
    "# data already downloaded\n",
    "visium_hd_zarr_path = \"D:/Hicks Lab/visium_hd.zarr\"\n",
    "\n",
    "# read the zarr data format\n",
    "import spatialdata as sd\n",
    "\n",
    "sdata = sd.read_zarr(visium_hd_zarr_path)\n",
    "sdata\n"
   ]
  },
  {
   "cell_type": "code",
   "execution_count": 8,
   "metadata": {},
   "outputs": [],
   "source": [
    "# let's make the var names unique; this improves performance in accessing the tabular data and is necessary to be able to plot the data\n",
    "for table in sdata.tables.values():\n",
    "    table.var_names_make_unique()"
   ]
  },
  {
   "cell_type": "markdown",
   "metadata": {},
   "source": [
    "Spatial data object contains several images:  \n",
    "1 large microscopy image, 2 downscaled version, and 1 CytAssist (for different workflow, used for overlaying data with histological features)  \n",
    "Also, data at different resolutions (Ann Data)"
   ]
  },
  {
   "cell_type": "markdown",
   "metadata": {},
   "source": [
    "**Plotting Images**"
   ]
  },
  {
   "cell_type": "code",
   "execution_count": null,
   "metadata": {},
   "outputs": [],
   "source": [
    "# importing libraries\n",
    "import matplotlib.pyplot as plt\n",
    "import spatialdata_plot # used for rendering images method\n",
    "\n",
    "axes = plt.subplots(1, 2, figsize=(10, 5))[1].flatten() # setting up plots\n",
    "\n",
    "# render 2 images from the sdata object, and plot side by side\n",
    "# render_images method is used (sdata.pl for plotting class)\n",
    "sdata.pl.render_images(\"Visium_HD_Mouse_Small_Intestine_full_image\").pl.show(ax=axes[0], title=\"Full image\")\n",
    "sdata.pl.render_images(\"Visium_HD_Mouse_Small_Intestine_cytassist_image\").pl.show(ax=axes[1], title=\"CytAssit image\")"
   ]
  },
  {
   "cell_type": "markdown",
   "metadata": {},
   "source": [
    "Issue: want to plot the same range.  \n",
    "Solution: compute extent of full image, crop the second data (CytAssit) using query methods"
   ]
  },
  {
   "cell_type": "code",
   "execution_count": null,
   "metadata": {},
   "outputs": [],
   "source": [
    "# calling get_extent from spatialdata to get the extent (limits) of full image\n",
    "from spatialdata import get_extent\n",
    "\n",
    "data_extent = get_extent(sdata[\"Visium_HD_Mouse_Small_Intestine_full_image\"], coordinate_system=\"global\")\n",
    "data_extent\n",
    "\n",
    "# crop the CytAssit image, using bounding_box_query class\n",
    "from spatialdata import bounding_box_query\n",
    "\n",
    "queried_cytassist = bounding_box_query(\n",
    "    sdata[\"Visium_HD_Mouse_Small_Intestine_cytassist_image\"], # refer to CytAssist image from sdata\n",
    "    min_coordinate=[data_extent[\"x\"][0], data_extent[\"y\"][0]],\n",
    "    max_coordinate=[data_extent[\"x\"][1], data_extent[\"y\"][1]],\n",
    "    axes=(\"x\", \"y\"), # query along x and y axes\n",
    "    target_coordinate_system=\"global\", \n",
    ")\n",
    "sdata[\"queried_cytassist\"] = queried_cytassist # store it in sdata object"
   ]
  },
  {
   "cell_type": "code",
   "execution_count": null,
   "metadata": {},
   "outputs": [],
   "source": [
    "# plot again\n",
    "axes = plt.subplots(1, 2, figsize=(10, 5))[1].flatten()\n",
    "sdata.pl.render_images(\"Visium_HD_Mouse_Small_Intestine_full_image\").pl.show(ax=axes[0], title=\"Full image\")\n",
    "sdata.pl.render_images(\"queried_cytassist\").pl.show(ax=axes[1], title=\"CytAssit image\")"
   ]
  },
  {
   "cell_type": "markdown",
   "metadata": {},
   "source": [
    "Visualize on a smaller region: full image shows better resolution"
   ]
  },
  {
   "cell_type": "code",
   "execution_count": null,
   "metadata": {},
   "outputs": [],
   "source": [
    "axes = plt.subplots(1, 2, figsize=(10, 5))[1].flatten()\n",
    "crop0 = lambda x: bounding_box_query(\n",
    "    x, min_coordinate=[5000, 8000], max_coordinate=[10000, 13000], axes=(\"x\", \"y\"), target_coordinate_system=\"global\"\n",
    ")\n",
    "crop0(sdata).pl.render_images(\"Visium_HD_Mouse_Small_Intestine_full_image\").pl.show(\n",
    "    ax=axes[0], title=\"Full image\", coordinate_systems=\"global\"\n",
    ")\n",
    "crop0(sdata).pl.render_images(\"queried_cytassist\").pl.show(\n",
    "    ax=axes[1], title=\"CytAssit image\", coordinate_systems=\"global\"\n",
    ")"
   ]
  },
  {
   "cell_type": "markdown",
   "metadata": {},
   "source": [
    "**Plotting Gene Expression Data**"
   ]
  },
  {
   "cell_type": "markdown",
   "metadata": {},
   "source": []
  }
 ],
 "metadata": {
  "kernelspec": {
   "display_name": "base",
   "language": "python",
   "name": "python3"
  },
  "language_info": {
   "codemirror_mode": {
    "name": "ipython",
    "version": 3
   },
   "file_extension": ".py",
   "mimetype": "text/x-python",
   "name": "python",
   "nbconvert_exporter": "python",
   "pygments_lexer": "ipython3",
   "version": "3.12.4"
  }
 },
 "nbformat": 4,
 "nbformat_minor": 2
}
