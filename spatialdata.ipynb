{
 "cells": [
  {
   "cell_type": "markdown",
   "metadata": {},
   "source": [
    "This notebook will explore some functionalities of spatialdata library.  \n",
    "Spatialdata library contains 3 components:  \n",
    "spatialdata-io: load data, listed below  \n",
    "spatialdata-plot: plotting library, explored in other notebook  \n",
    "napari: used for interactive exploration and annotation."
   ]
  },
  {
   "cell_type": "markdown",
   "metadata": {},
   "source": [
    "**Spatialdata-io** (reading in Visium HD data)  \n",
    "Link: https://spatialdata.scverse.org/projects/io/en/latest/generated/spatialdata_io.visium_hd.html (full documentation)"
   ]
  },
  {
   "cell_type": "code",
   "execution_count": null,
   "metadata": {},
   "outputs": [],
   "source": [
    "from spatialdata_io import visium_hd\n",
    "import spatialdata as sd\n",
    "\n",
    "# represent the raw data in-memory\n",
    "sdata = visium_hd('path/to/raw/data')\n",
    "\n",
    "# another more complex example\n",
    "sdata = visium_hd(\n",
    "    path_read,\n",
    "    load_all_images=True,\n",
    "    fullres_image_file=\"Visium_HD_Mouse_Small_Intestine_tissue_image.btf\",\n",
    ")"
   ]
  },
  {
   "cell_type": "markdown",
   "metadata": {},
   "source": [
    "Other parameters: dataset ID, if counts are filtered, bin size (default loads all), bin representation as squares or circles, annotate tables by labels (?), path to full-res image, whether to load all images.  \n",
    "Return a SpatialData object for VisiumHD data, which can then be used for spatialdata package analysis."
   ]
  },
  {
   "cell_type": "markdown",
   "metadata": {},
   "source": [
    "Conversion to Zarr data format (for compatibility with plotting)  \n",
    "Link: https://spatialdata.scverse.org/en/latest/tutorials/notebooks/notebooks/examples/models1.html\n",
    "\n",
    "Zarr is a storage format to save data on-disk or in the cloud in a performant and interoperable way. A Zarr object saved on-disk or in the cloud is referred to as a Zarr store. Effectively a Zarr store is not a file, but a folder containing data and metadata. Zarr is optimized to store tensor data (such as large images)."
   ]
  },
  {
   "cell_type": "code",
   "execution_count": null,
   "metadata": {},
   "outputs": [],
   "source": [
    "# write the data to disk\n",
    "sdata.write(path_write)\n",
    "\n",
    "# then read and print the Zarr data\n",
    "sdata = sd.read_zarr(path_write)\n",
    "print(sdata) # can work with converted Zarr data\n",
    "\n",
    "# NOTE: important to call write function and then read again, since sometimes raw data is not stored in an optimized way"
   ]
  },
  {
   "cell_type": "markdown",
   "metadata": {},
   "source": [
    "We can also construct a SpatialData from scratch, by pinning together images, labels, points, shapes, and tables. See link above."
   ]
  }
 ],
 "metadata": {
  "language_info": {
   "name": "python"
  }
 },
 "nbformat": 4,
 "nbformat_minor": 2
}
